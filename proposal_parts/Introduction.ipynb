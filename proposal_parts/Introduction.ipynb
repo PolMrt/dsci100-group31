{
 "cells": [
  {
   "cell_type": "markdown",
   "metadata": {},
   "source": [
    "# Proposal"
   ]
  },
  {
   "cell_type": "markdown",
   "metadata": {},
   "source": [
    "## Introduction\n",
    "Heart disease has often been attributed to two broad reasons in the field of medical sciences; lifestyle and genetics. Whilst it is difficult to obtain data, extrapolate and correctly predict the possibility that an individual develops a heart disease owing to genetics, it is easier to do so by looking at their lifestyle and present health. \n",
    "\n",
    "This project aims at predicting the the prevalence of heart disease in patients based on a number of lifestyle variables that provide us insight into the individual's current health. The data set classifies the presence of heart disease based on 5 categories, ranking from 0 (absence) to 4 (highest prevelance), and we aim to correctly predict the class of a new observation based on the variables we have.It provides us with 13 explanatory variables and 303 observations that we would use as inputs to a KNN model. \n",
    "\n",
    "Our aim is therefore not only to create a relevant KNN model, but also to train and test it and improve it's accuracy such that the probability of a new observation to be rightly predicted is sufficiently high. "
   ]
  },
  {
   "cell_type": "markdown",
   "metadata": {},
   "source": [
    "## Preliminary exploratory data analysis\n",
    "To do... (Alice)"
   ]
  },
  {
   "cell_type": "markdown",
   "metadata": {},
   "source": [
    "## Methods\n",
    "To do... (Pol)"
   ]
  },
  {
   "cell_type": "markdown",
   "metadata": {},
   "source": [
    "## Expected outcomes and significance\n",
    "To do... (Karmen)"
   ]
  }
 ],
 "metadata": {
  "kernelspec": {
   "display_name": "Python 3 (ipykernel)",
   "language": "python",
   "name": "python3"
  },
  "language_info": {
   "codemirror_mode": {
    "name": "ipython",
    "version": 3
   },
   "file_extension": ".py",
   "mimetype": "text/x-python",
   "name": "python",
   "nbconvert_exporter": "python",
   "pygments_lexer": "ipython3",
   "version": "3.10.8"
  }
 },
 "nbformat": 4,
 "nbformat_minor": 4
}
