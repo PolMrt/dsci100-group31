{
 "cells": [
  {
   "cell_type": "markdown",
   "metadata": {},
   "source": [
    "## Predicting the Prevalence of Heart Disease in Patients"
   ]
  },
  {
   "cell_type": "markdown",
   "metadata": {},
   "source": [
    "## Introduction\n",
    "Heart disease has often been attributed to two broad reasons in the field of medical sciences; lifestyle and genetics (CDC, <i>Heart disease and stroke 2022</i>). Whilst it is difficult to obtain data, extrapolate and correctly predict the possibility that an individual develops a heart disease owing to genetics, it is easier to do so by looking at their lifestyle and present health. \n",
    "\n",
    "This project aims at predicting the the prevalence of heart disease in patients based on a number of lifestyle variables that provide us insight into the individual's current health. The data set classifies the presence of heart disease based on 5 categories, ranking from 0 (absence) to 4 (highest prevelance), and we aim to correctly predict the class of a new observation based on the variables we have.It provides us with 13 explanatory variables and 303 observations that we would use as inputs to a KNN model. \n",
    "\n",
    "Our aim is therefore not only to create a relevant KNN model, but also to train and test it and improve it's accuracy such that the probability of a new observation to be rightly predicted is sufficiently high. \n",
    "\n",
    "(https://www.cdc.gov/chronicdisease/resources/publications/factsheets/heart-disease-stroke.htm#:~:text=Leading%20risk%20factors%20for%20heart,unhealthy%20diet%2C%20and%20physical%20inactivity.) "
   ]
  },
  {
   "cell_type": "markdown",
   "metadata": {},
   "source": [
    "## Conclusion\n",
    "The classification problem that we attempted to tackle here is one that serves to be exceptionally critical in the field of medical sciences. Through using several important techniques to optimize parameter selection in a way that maximizes the accuracy of our KNN model we show that our model serves as a good starting point to solve this rather complex classification problem. \n",
    "\n",
    "The apt use of a train-test split, precision, recall and accuracy parameters allow us to holistically evaluate our model. We come to two primary conclusions; first, that the accuracy of the KNN classification model is rather low for the field of medical sciences and second, that although the accuracy and precision are low, the recall is still significantly higher. This is perhaps the most important takeaway, as this implies that our model is rather capable of dealing with false negatives. In this scenario, where our problem revolves around classifying whether or not the a certain individual has heart disease or not, false negatives are a lot more catastrophic than false positives, and so the low precision wouldn't have been as concerning as a low recall. \n",
    "\n",
    "Whilst it is important to note that the precision, recall and accuracy values are still rather low, our model hints towards a good foundation and beginning to solve a rather complex problem. "
   ]
  },
  {
   "cell_type": "code",
   "execution_count": null,
   "metadata": {},
   "outputs": [],
   "source": []
  }
 ],
 "metadata": {
  "kernelspec": {
   "display_name": "Python 3 (ipykernel)",
   "language": "python",
   "name": "python3"
  },
  "language_info": {
   "codemirror_mode": {
    "name": "ipython",
    "version": 3
   },
   "file_extension": ".py",
   "mimetype": "text/x-python",
   "name": "python",
   "nbconvert_exporter": "python",
   "pygments_lexer": "ipython3",
   "version": "3.10.8"
  }
 },
 "nbformat": 4,
 "nbformat_minor": 4
}
