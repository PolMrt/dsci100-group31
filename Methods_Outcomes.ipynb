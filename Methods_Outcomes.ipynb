{
 "cells": [
  {
   "cell_type": "code",
   "execution_count": 2,
   "id": "103f0795-1db9-4de9-99ca-1cd6f25cbf13",
   "metadata": {
    "scrolled": true
   },
   "outputs": [
    {
     "data": {
      "text/plain": [
       "{'cells': [{'cell_type': 'markdown', 'metadata': {}, 'source': ['# Proposal']},\n",
       "  {'cell_type': 'markdown',\n",
       "   'metadata': {},\n",
       "   'source': ['## Introduction\\n', 'To do... (Dhairya)']},\n",
       "  {'cell_type': 'markdown',\n",
       "   'metadata': {},\n",
       "   'source': ['## Preliminary exploratory data analysis\\n',\n",
       "    'To do... (Alice)']},\n",
       "  {'cell_type': 'markdown',\n",
       "   'metadata': {},\n",
       "   'source': ['## Methods\\n', 'To do... (Pol)']},\n",
       "  {'cell_type': 'markdown',\n",
       "   'metadata': {},\n",
       "   'source': ['## Expected outcomes and significance\\n',\n",
       "    'This project aims to predict the possibility of an individual contracting heart disease due to their lifestyle and what behaviours are more likely to lead to heart disease. This analysis of the result should lead to a system that can predict heart disease by factors such as age, diet, or sex. Given the preliminary results, heart disease is more likely to be present in older individuals and those with higher blood sugar. As the project moves forward, the goal is to refine those results into the class system referenced in the introduction. If successful, this model could help health care professionals predict which patients need specific care in order to prevent heart disease and could even be a self-assessment tool for individuals that may want to check their propensity for the disease. Some questions that may come from the project could be looking at medical dataset and their biases. As with all data, this information will reflect the biases all around us. In situations where an informatic model can actively hurt individuals, a larger dataset could be useful to balance out this phenomenon. It may also lead to questions of what treatment plan may be effective considering the individual factors used to assess the person’s likelihood to contract the disease. A person’s health varies greatly between individuals, but also between the spheres variables being used in this project. These questions could further the usefulness of this project. ']}],\n",
       " 'metadata': {'kernelspec': {'display_name': 'Python 3 (ipykernel)',\n",
       "   'language': 'python',\n",
       "   'name': 'python3'},\n",
       "  'language_info': {'codemirror_mode': {'name': 'ipython', 'version': 3},\n",
       "   'file_extension': '.py',\n",
       "   'mimetype': 'text/x-python',\n",
       "   'name': 'python',\n",
       "   'nbconvert_exporter': 'python',\n",
       "   'pygments_lexer': 'ipython3',\n",
       "   'version': '3.10.8'}},\n",
       " 'nbformat': 4,\n",
       " 'nbformat_minor': 4}"
      ]
     },
     "execution_count": 2,
     "metadata": {},
     "output_type": "execute_result"
    }
   ],
   "source": [
    "{\n",
    " \"cells\": [\n",
    "  {\n",
    "   \"cell_type\": \"markdown\",\n",
    "   \"metadata\": {},\n",
    "   \"source\": [\n",
    "    \"# Proposal\"\n",
    "   ]\n",
    "  },\n",
    "  {\n",
    "   \"cell_type\": \"markdown\",\n",
    "   \"metadata\": {},\n",
    "   \"source\": [\n",
    "    \"## Introduction\\n\",\n",
    "    \"To do... (Dhairya)\"\n",
    "   ]\n",
    "  },\n",
    "  {\n",
    "   \"cell_type\": \"markdown\",\n",
    "   \"metadata\": {},\n",
    "   \"source\": [\n",
    "    \"## Preliminary exploratory data analysis\\n\",\n",
    "    \"To do... (Alice)\"\n",
    "   ]\n",
    "  },\n",
    "  {\n",
    "   \"cell_type\": \"markdown\",\n",
    "   \"metadata\": {},\n",
    "   \"source\": [\n",
    "    \"## Methods\\n\",\n",
    "    \"To do... (Pol)\"\n",
    "   ]\n",
    "  },\n",
    "  {\n",
    "   \"cell_type\": \"markdown\",\n",
    "   \"metadata\": {},\n",
    "   \"source\": [\n",
    "    \"## Expected outcomes and significance\\n\",\n",
    "    \"This project aims to predict the possibility of an individual contracting heart disease due to their lifestyle and what behaviours are more likely to lead to heart disease. This analysis of the result should lead to a system that can predict heart disease by factors such as age, diet, or sex. Given the preliminary results, heart disease is more likely to be present in older individuals and those with higher blood sugar. As the project moves forward, the goal is to refine those results into the class system referenced in the introduction. If successful, this model could help health care professionals predict which patients need specific care in order to prevent heart disease and could even be a self-assessment tool for individuals that may want to check their propensity for the disease. Some questions that may come from the project could be looking at medical dataset and their biases. As with all data, this information will reflect the biases all around us. In situations where an informatic model can actively hurt individuals, a larger dataset could be useful to balance out this phenomenon. It may also lead to questions of what treatment plan may be effective considering the individual factors used to assess the person’s likelihood to contract the disease. A person’s health varies greatly between individuals, but also between the spheres variables being used in this project. These questions could further the usefulness of this project. \"\n",
    "   ]\n",
    "  }\n",
    " ],\n",
    " \"metadata\": {\n",
    "  \"kernelspec\": {\n",
    "   \"display_name\": \"Python 3 (ipykernel)\",\n",
    "   \"language\": \"python\",\n",
    "   \"name\": \"python3\"\n",
    "  },\n",
    "  \"language_info\": {\n",
    "   \"codemirror_mode\": {\n",
    "    \"name\": \"ipython\",\n",
    "    \"version\": 3\n",
    "   },\n",
    "   \"file_extension\": \".py\",\n",
    "   \"mimetype\": \"text/x-python\",\n",
    "   \"name\": \"python\",\n",
    "   \"nbconvert_exporter\": \"python\",\n",
    "   \"pygments_lexer\": \"ipython3\",\n",
    "   \"version\": \"3.10.8\"\n",
    "  }\n",
    " },\n",
    " \"nbformat\": 4,\n",
    " \"nbformat_minor\": 4\n",
    "}\n"
   ]
  },
  {
   "cell_type": "code",
   "execution_count": null,
   "id": "4febf8b3-6090-4d40-9b8b-c7974a5d55fe",
   "metadata": {},
   "outputs": [],
   "source": []
  }
 ],
 "metadata": {
  "kernelspec": {
   "display_name": "Python 3 (ipykernel)",
   "language": "python",
   "name": "python3"
  },
  "language_info": {
   "codemirror_mode": {
    "name": "ipython",
    "version": 3
   },
   "file_extension": ".py",
   "mimetype": "text/x-python",
   "name": "python",
   "nbconvert_exporter": "python",
   "pygments_lexer": "ipython3",
   "version": "3.11.5"
  }
 },
 "nbformat": 4,
 "nbformat_minor": 5
}
