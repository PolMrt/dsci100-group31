{
 "cells": [
  {
   "cell_type": "markdown",
   "id": "508d951a-9ea0-4f3d-bbd2-9693a7c8464b",
   "metadata": {},
   "source": [
    "### To do list \n",
    "\n",
    "Self assign roles by writing your name(s) beside the part you are contributing to. "
   ]
  },
  {
   "cell_type": "markdown",
   "id": "0e38665b-2435-4fbe-bd0a-aa5e89ea064c",
   "metadata": {},
   "source": [
    "**For each step below:** \n",
    "\n",
    "- Write **text descriptions** on what you are doing and what the results suggest. \n",
    "- **Visualize** the results where applicable. \n",
    "\n",
    "Refer to Chapters 5 and 6 in textbook, Figure 6.8 for overview of KNN classification. \n",
    "\n",
    "| Task description | Contributor(s) | Notes/questions/remarks |\n",
    "| :- | :- | :- |\n",
    "| Create an outline of tasks. | Alice | - | \n",
    "| Add citations to introduction. | Dhairya | - |\n",
    "| Set a seed value. Split data into training set and testing set. | - | - |\n",
    "| Perform cross-validation to find the best $K$ value for the knn-regression. Create an accuracies grid. | - | - |\n",
    "| Create a preprocessor and train the classifier on the testing set. | - | - |\n",
    "| Predict the labels in the test set. | - | - |\n",
    "| Analyze the accuracy of the results. Create a confusion matrix and calculate the accuracy, precision, and recall (and interpret these results). | - | - |\n",
    "| Conclude the analysis. What did the results suggest? What are the associated errors/accuracy of our analysis? How can these results be applied? What further analysis could be done? | - | - |"
   ]
  },
  {
   "cell_type": "code",
   "execution_count": null,
   "id": "967a75a1-0b3e-4c32-88e2-4e84610fa5fd",
   "metadata": {},
   "outputs": [],
   "source": []
  },
  {
   "cell_type": "code",
   "execution_count": null,
   "id": "f76fbfb8-f97e-4858-a063-192ddfdc36e6",
   "metadata": {},
   "outputs": [],
   "source": []
  },
  {
   "cell_type": "code",
   "execution_count": null,
   "id": "ee2dc827-5c27-4293-885c-fd04e8a6c936",
   "metadata": {},
   "outputs": [],
   "source": []
  }
 ],
 "metadata": {
  "kernelspec": {
   "display_name": "Python 3 (ipykernel)",
   "language": "python",
   "name": "python3"
  },
  "language_info": {
   "codemirror_mode": {
    "name": "ipython",
    "version": 3
   },
   "file_extension": ".py",
   "mimetype": "text/x-python",
   "name": "python",
   "nbconvert_exporter": "python",
   "pygments_lexer": "ipython3",
   "version": "3.10.8"
  }
 },
 "nbformat": 4,
 "nbformat_minor": 5
}
