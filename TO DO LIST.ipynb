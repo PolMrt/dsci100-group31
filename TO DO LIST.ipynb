{
 "cells": [
  {
   "cell_type": "markdown",
   "id": "508d951a-9ea0-4f3d-bbd2-9693a7c8464b",
   "metadata": {},
   "source": [
    "### To do list \n",
    "\n",
    "Self assign roles by writing your name(s) beside the part you are contributing to. "
   ]
  },
  {
   "cell_type": "markdown",
   "id": "0e38665b-2435-4fbe-bd0a-aa5e89ea064c",
   "metadata": {},
   "source": [
    "| Task description | Contributor(s) | Notes/questions/remarks |\n",
    "| :- | :- | :- |\n",
    "| Create an outline of tasks | Alice | - | \n",
    "| - | - | - |"
   ]
  },
  {
   "cell_type": "code",
   "execution_count": null,
   "id": "967a75a1-0b3e-4c32-88e2-4e84610fa5fd",
   "metadata": {},
   "outputs": [],
   "source": []
  },
  {
   "cell_type": "code",
   "execution_count": null,
   "id": "f76fbfb8-f97e-4858-a063-192ddfdc36e6",
   "metadata": {},
   "outputs": [],
   "source": []
  },
  {
   "cell_type": "code",
   "execution_count": null,
   "id": "ee2dc827-5c27-4293-885c-fd04e8a6c936",
   "metadata": {},
   "outputs": [],
   "source": []
  }
 ],
 "metadata": {
  "kernelspec": {
   "display_name": "Python 3 (ipykernel)",
   "language": "python",
   "name": "python3"
  },
  "language_info": {
   "codemirror_mode": {
    "name": "ipython",
    "version": 3
   },
   "file_extension": ".py",
   "mimetype": "text/x-python",
   "name": "python",
   "nbconvert_exporter": "python",
   "pygments_lexer": "ipython3",
   "version": "3.10.8"
  }
 },
 "nbformat": 4,
 "nbformat_minor": 5
}
